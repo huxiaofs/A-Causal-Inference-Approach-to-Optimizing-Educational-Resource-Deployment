{
 "cells": [
  {
   "cell_type": "code",
   "execution_count": 1,
   "id": "66b72400",
   "metadata": {},
   "outputs": [
    {
     "name": "stderr",
     "output_type": "stream",
     "text": [
      "No GPU automatically detected. Setting SETTINGS.GPU to 0, and SETTINGS.NJOBS to cpu_count.\n"
     ]
    }
   ],
   "source": [
    "import networkx as nx\n",
    "import pandas as pd\n",
    "import matplotlib.pyplot as plt\n",
    "from cdt.causality.graph import PC"
   ]
  },
  {
   "cell_type": "code",
   "execution_count": 2,
   "id": "c2a8aca4",
   "metadata": {},
   "outputs": [],
   "source": [
    "data = pd.read_csv('CY08MSP_STU_QQQ_processed_2.csv')"
   ]
  },
  {
   "cell_type": "code",
   "execution_count": 3,
   "id": "3c92b440",
   "metadata": {},
   "outputs": [],
   "source": [
    "file_path = \"pc_output_edgelist_all.txt\""
   ]
  },
  {
   "cell_type": "code",
   "execution_count": null,
   "id": "b2583ec2",
   "metadata": {},
   "outputs": [],
   "source": [
    "pc_output = PC().create_graph_from_data(data)"
   ]
  },
  {
   "cell_type": "code",
   "execution_count": null,
   "id": "8b90022d",
   "metadata": {},
   "outputs": [],
   "source": [
    "nx.write_edgelist(pc_output, file_path)"
   ]
  },
  {
   "cell_type": "code",
   "execution_count": null,
   "id": "cd344e50",
   "metadata": {},
   "outputs": [],
   "source": [
    "def create_and_draw_graph_from_edgelist(file_path):\n",
    "    G = nx.DiGraph()  # 创建一个有向图\n",
    "    with open(file_path, 'r') as f:\n",
    "        for line in f:\n",
    "            parts = line.strip().split(' ', 2)  # 使用空格分割每一行，最多分割成3部分\n",
    "            if len(parts) == 3:  # 确保行格式正确\n",
    "                source = parts[0]\n",
    "                target = parts[1]\n",
    "                # 这里不处理权重，因为示例中权重都是1，直接添加边\n",
    "                G.add_edge(source, target)\n",
    "    \n",
    "    # 检查图中的节点和边数量\n",
    "    print(\"节点数量:\", G.number_of_nodes())\n",
    "    print(\"边数量:\", G.number_of_edges())\n",
    "\n",
    "    # 生成布局并绘制图\n",
    "    pos = nx.spring_layout(G, seed=42)  # 使用spring布局, 添加seed参数\n",
    "    plt.figure(figsize=(15, 10))\n",
    "    nx.draw(G, pos, with_labels=True, node_color='lightblue', edge_color='gray', node_size=2000, font_size=10, width=1)\n",
    "    plt.title(\"Complete Causal Graph\")\n",
    "    plt.show()"
   ]
  },
  {
   "cell_type": "code",
   "execution_count": null,
   "id": "3467c8d9",
   "metadata": {},
   "outputs": [],
   "source": [
    "create_and_draw_graph_from_edgelist(file_path)"
   ]
  },
  {
   "cell_type": "code",
   "execution_count": null,
   "id": "0dbff351",
   "metadata": {},
   "outputs": [],
   "source": [
    "def create_and_draw_graph_from_edgelist_circular(file_path):\n",
    "    G = nx.DiGraph()  # 创建一个有向图\n",
    "    with open(file_path, 'r') as f:\n",
    "        for line in f:\n",
    "            parts = line.strip().split(' ', 2)  # 使用空格分割每一行，最多分割成3部分\n",
    "            if len(parts) == 3:  # 确保行格式正确\n",
    "                source = parts[0]\n",
    "                target = parts[1]\n",
    "                # 直接添加边，这里忽略权重\n",
    "                G.add_edge(source, target)\n",
    "    \n",
    "    # 检查图中的节点和边数量\n",
    "    print(\"节点数量:\", G.number_of_nodes())\n",
    "    print(\"边数量:\", G.number_of_edges())\n",
    "\n",
    "    # 使用circular_layout生成布局并绘制图\n",
    "    pos = nx.circular_layout(G)  # 使用circular布局\n",
    "    plt.figure(figsize=(15, 10))\n",
    "    nx.draw(G, pos, with_labels=True, node_color='lightblue', edge_color='gray', node_size=2000, font_size=10, width=1)\n",
    "    plt.title(\"Complete Causal Graph in Circular Layout\")\n",
    "    plt.show()\n",
    "\n",
    "\n",
    "create_and_draw_graph_from_edgelist_circular(file_path)"
   ]
  },
  {
   "cell_type": "code",
   "execution_count": null,
   "id": "2f9ec669",
   "metadata": {},
   "outputs": [],
   "source": [
    "def create_and_draw_graph_from_edgelist_circular(file_path):\n",
    "    G = nx.DiGraph()  # 创建一个有向图\n",
    "    with open(file_path, 'r') as f:\n",
    "        for line in f:\n",
    "            parts = line.strip().split(' ', 2)  # 使用空格分割每一行，最多分割成3部分\n",
    "            if len(parts) == 3:  # 确保行格式正确\n",
    "                source = parts[0]\n",
    "                target = parts[1]\n",
    "                # 直接添加边，这里忽略权重\n",
    "                G.add_edge(source, target)\n",
    "    \n",
    "    # 使用circular_layout生成布局并绘制图\n",
    "    pos = nx.circular_layout(G)  # 使用circular布局\n",
    "    plt.figure(figsize=(15, 10))\n",
    "    nx.draw(G, pos, with_labels=True, node_color='lightblue', edge_color='gray', node_size=2000, font_size=10, width=1)\n",
    "    plt.title(\"Complete Causal Graph in Circular Layout\")\n",
    "\n",
    "    # 保存图形为高清大图\n",
    "    plt.savefig(\"causal_graph_hd_2.png\", format='png', dpi=300, bbox_inches='tight')\n",
    "    plt.show()\n",
    "\n",
    "\n",
    "create_and_draw_graph_from_edgelist_circular(file_path)"
   ]
  },
  {
   "cell_type": "code",
   "execution_count": null,
   "id": "d52acde0",
   "metadata": {},
   "outputs": [],
   "source": []
  }
 ],
 "metadata": {
  "kernelspec": {
   "display_name": "Python 3",
   "language": "python",
   "name": "python3"
  },
  "language_info": {
   "codemirror_mode": {
    "name": "ipython",
    "version": 3
   },
   "file_extension": ".py",
   "mimetype": "text/x-python",
   "name": "python",
   "nbconvert_exporter": "python",
   "pygments_lexer": "ipython3",
   "version": "3.8.8"
  }
 },
 "nbformat": 4,
 "nbformat_minor": 5
}
