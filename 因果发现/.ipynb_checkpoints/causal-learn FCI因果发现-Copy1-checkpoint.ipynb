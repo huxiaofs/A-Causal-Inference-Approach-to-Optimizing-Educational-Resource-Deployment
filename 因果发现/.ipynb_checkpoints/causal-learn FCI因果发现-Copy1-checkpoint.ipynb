{
 "cells": [
  {
   "cell_type": "code",
   "execution_count": 1,
   "id": "80131347",
   "metadata": {},
   "outputs": [],
   "source": [
    "from causallearn.search.ConstraintBased.FCI import fci\n",
    "from causallearn.utils.GraphUtils import GraphUtils\n",
    "import networkx as nx\n",
    "import pandas as pd\n",
    "import numpy as np\n",
    "import matplotlib.pyplot as plt"
   ]
  },
  {
   "cell_type": "code",
   "execution_count": 2,
   "id": "abef4ff5",
   "metadata": {},
   "outputs": [],
   "source": [
    "data = pd.read_csv('CY08MSP_STU_QQQ_processed_ict-reduced.csv')\n",
    "data = data.to_numpy()"
   ]
  },
  {
   "cell_type": "code",
   "execution_count": 3,
   "id": "12050604",
   "metadata": {},
   "outputs": [],
   "source": [
    "file_path = \"fci_output_edgelist_ict-reduced.txt\"\n",
    "result_path = \"causal_graph_fci_ict-reduced.png\""
   ]
  },
  {
   "cell_type": "code",
   "execution_count": null,
   "id": "eb2d8e49",
   "metadata": {},
   "outputs": [
    {
     "data": {
      "application/vnd.jupyter.widget-view+json": {
       "model_id": "b776a4aa48f7456e8baff7e8009b3950",
       "version_major": 2,
       "version_minor": 0
      },
      "text/plain": [
       "  0%|          | 0/14 [00:00<?, ?it/s]"
      ]
     },
     "metadata": {},
     "output_type": "display_data"
    }
   ],
   "source": [
    "# default parameters\n",
    "g, edges = fci(data)"
   ]
  },
  {
   "cell_type": "code",
   "execution_count": null,
   "id": "cf02e4d8",
   "metadata": {},
   "outputs": [],
   "source": [
    "# nx.write_edgelist(edges, file_path)"
   ]
  },
  {
   "cell_type": "code",
   "execution_count": null,
   "id": "2291535b",
   "metadata": {},
   "outputs": [],
   "source": [
    "# visualization\n",
    "\n",
    "pdy = GraphUtils.to_pydot(g)\n",
    "pdy.write_png(result_path)"
   ]
  },
  {
   "cell_type": "code",
   "execution_count": null,
   "id": "63d1ca96",
   "metadata": {},
   "outputs": [],
   "source": [
    "\n",
    "# or customized parameters\n",
    "g, edges = fci(data, independence_test_method, alpha, depth, max_path_length,\n",
    "    verbose, background_knowledge, cache_variables_map)"
   ]
  }
 ],
 "metadata": {
  "kernelspec": {
   "display_name": "Python 3",
   "language": "python",
   "name": "python3"
  },
  "language_info": {
   "codemirror_mode": {
    "name": "ipython",
    "version": 3
   },
   "file_extension": ".py",
   "mimetype": "text/x-python",
   "name": "python",
   "nbconvert_exporter": "python",
   "pygments_lexer": "ipython3",
   "version": "3.8.8"
  }
 },
 "nbformat": 4,
 "nbformat_minor": 5
}
