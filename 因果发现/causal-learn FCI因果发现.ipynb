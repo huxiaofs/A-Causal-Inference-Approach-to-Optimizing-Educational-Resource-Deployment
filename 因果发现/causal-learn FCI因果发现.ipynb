{
 "cells": [
  {
   "cell_type": "code",
   "execution_count": 1,
   "id": "23edc87a",
   "metadata": {},
   "outputs": [],
   "source": [
    "from causallearn.search.ConstraintBased.FCI import fci\n",
    "from causallearn.utils.GraphUtils import GraphUtils\n",
    "import networkx as nx\n",
    "import pandas as pd\n",
    "import numpy as np\n",
    "import matplotlib.pyplot as plt"
   ]
  },
  {
   "cell_type": "code",
   "execution_count": 2,
   "id": "3e353315",
   "metadata": {},
   "outputs": [],
   "source": [
    "data = pd.read_csv('CY08MSP_STU_QQQ_processed_ict-reduced.csv')\n",
    "data = data.to_numpy()"
   ]
  },
  {
   "cell_type": "code",
   "execution_count": 3,
   "id": "a9804cad",
   "metadata": {},
   "outputs": [],
   "source": [
    "file_path = \"fci_output_edgelist_ict-reduced.txt\"\n",
    "result_path = \"causal_graph_fci_ict-reduced.png\""
   ]
  },
  {
   "cell_type": "code",
   "execution_count": 4,
   "id": "7917a63c",
   "metadata": {},
   "outputs": [
    {
     "data": {
      "application/vnd.jupyter.widget-view+json": {
       "model_id": "b12b328eba8348b19a4653a673d81779",
       "version_major": 2,
       "version_minor": 0
      },
      "text/plain": [
       "  0%|          | 0/14 [00:00<?, ?it/s]"
      ]
     },
     "metadata": {},
     "output_type": "display_data"
    },
    {
     "name": "stdout",
     "output_type": "stream",
     "text": [
      "X3 --> X6\n",
      "X3 --> X11\n",
      "X3 --> X13\n",
      "X7 --> X4\n",
      "X5 --> X6\n",
      "X5 --> X8\n",
      "X5 --> X11\n",
      "X5 --> X13\n",
      "X8 --> X6\n",
      "X6 --> X11\n",
      "X9 --> X8\n",
      "X8 --> X11\n",
      "X9 --> X11\n",
      "X10 --> X11\n",
      "X12 --> X10\n",
      "X12 --> X11\n"
     ]
    }
   ],
   "source": [
    "# default parameters\n",
    "g, edges = fci(data)"
   ]
  },
  {
   "cell_type": "code",
   "execution_count": 5,
   "id": "95434e12",
   "metadata": {},
   "outputs": [],
   "source": [
    "# nx.write_edgelist(edges, file_path)"
   ]
  },
  {
   "cell_type": "code",
   "execution_count": 6,
   "id": "0a910dba",
   "metadata": {},
   "outputs": [],
   "source": [
    "# visualization\n",
    "\n",
    "\n",
    "pdy = GraphUtils.to_pydot(g)\n",
    "pdy.write_png(result_path)"
   ]
  },
  {
   "cell_type": "code",
   "execution_count": 7,
   "id": "1f8c6a10",
   "metadata": {},
   "outputs": [],
   "source": [
    "\n",
    "# or customized parameters\n",
    "# g, edges = fci(data, independence_test_method, alpha, depth, max_path_length,\n",
    "#     verbose, background_knowledge, cache_variables_map)"
   ]
  }
 ],
 "metadata": {
  "kernelspec": {
   "display_name": "Python 3",
   "language": "python",
   "name": "python3"
  },
  "language_info": {
   "codemirror_mode": {
    "name": "ipython",
    "version": 3
   },
   "file_extension": ".py",
   "mimetype": "text/x-python",
   "name": "python",
   "nbconvert_exporter": "python",
   "pygments_lexer": "ipython3",
   "version": "3.8.8"
  }
 },
 "nbformat": 4,
 "nbformat_minor": 5
}
