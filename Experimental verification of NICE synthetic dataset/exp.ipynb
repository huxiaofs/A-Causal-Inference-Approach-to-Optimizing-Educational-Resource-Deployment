{
 "cells": [
  {
   "cell_type": "code",
   "execution_count": 1,
   "metadata": {},
   "outputs": [],
   "source": [
    "import numpy as np\n",
    "import pandas as pd\n",
    "import networkx as nx\n",
    "from random import choice, randint, uniform\n",
    "from scipy.stats import norm"
   ]
  },
  {
   "cell_type": "code",
   "execution_count": 2,
   "metadata": {},
   "outputs": [],
   "source": [
    "\n",
    "# 参数定义\n",
    "num_dags = 1000  # DAG数量\n",
    "num_nodes_range = (5, 15)  # 每个DAG节点数量范围\n",
    "sample_sizes = [100, 200, 500]  # 数据集规模\n",
    "noise_levels = [0.1, 0.5, 1.0]  # 噪声强度\n",
    "\n",
    "# 存储结果\n",
    "dag_data = []\n",
    "\n",
    "# 生成随机DAG，满足马尔可夫条件和忠实性\n",
    "for i in range(num_dags):\n",
    "    # 生成随机节点数量的DAG\n",
    "    num_nodes = randint(*num_nodes_range)\n",
    "    G = nx.DiGraph()\n",
    "    G.add_nodes_from(range(num_nodes))\n",
    "    \n",
    "    # 随机生成有向边，确保DAG无环\n",
    "    while not nx.is_directed_acyclic_graph(G):\n",
    "        G.clear_edges()\n",
    "        for n in range(num_nodes):\n",
    "            for m in range(n+1, num_nodes):\n",
    "                if np.random.rand() > 0.7:  # 30%几率添加边\n",
    "                    G.add_edge(n, m)\n",
    "\n",
    "    # 马尔可夫条件和忠实性：生成符合条件的高斯噪声\n",
    "    adj_matrix = nx.adjacency_matrix(G).todense()\n",
    "    coef_matrix = adj_matrix * np.random.uniform(0.1, 1.0, adj_matrix.shape)  # 随机系数\n",
    "    \n",
    "    # 选择干预和结果变量\n",
    "    intervention_var = choice(list(G.nodes))\n",
    "    outcome_var = choice([n for n in G.nodes if n != intervention_var])\n",
    "\n",
    "    # 识别后门调整集（Markov blanket）\n",
    "    backdoor_set = set()\n",
    "    for node in G.predecessors(outcome_var):\n",
    "        if node != intervention_var:\n",
    "            backdoor_set.add(node)\n",
    "    for node in G.successors(intervention_var):\n",
    "        if node != outcome_var:\n",
    "            backdoor_set.add(node)\n",
    "\n",
    "    # 生成不同规模的数据及噪声\n",
    "    for sample_size in sample_sizes:\n",
    "        for noise_level in noise_levels:\n",
    "            data = np.zeros((sample_size, num_nodes))\n",
    "            for t in range(sample_size):\n",
    "                # 对每个节点生成值，满足高斯噪声\n",
    "                for node in range(num_nodes):\n",
    "                    noise = np.random.normal(0, noise_level)\n",
    "                    parent_values = sum(coef_matrix[parent, node] * data[t, parent] for parent in G.predecessors(node))\n",
    "                    data[t, node] = parent_values + noise\n",
    "            \n",
    "            # 存储DAG数据及因果效应\n",
    "            ace = coef_matrix[intervention_var, outcome_var]  # 直接因果效应（ACE）\n",
    "            dag_data.append({\n",
    "                'dag_id': i,\n",
    "                'sample_size': sample_size,\n",
    "                'noise_level': noise_level,\n",
    "                'intervention_var': intervention_var,\n",
    "                'outcome_var': outcome_var,\n",
    "                'backdoor_set': list(backdoor_set),\n",
    "                'ace': ace,\n",
    "                'data': pd.DataFrame(data, columns=[f'X{j}' for j in range(num_nodes)])\n",
    "            })\n"
   ]
  },
  {
   "cell_type": "code",
   "execution_count": 3,
   "metadata": {},
   "outputs": [
    {
     "name": "stdout",
     "output_type": "stream",
     "text": [
      "DAG ID: 0\n",
      "Sample Size: 100\n",
      "Noise Level: 0.1\n",
      "Intervention Variable: 6\n",
      "Outcome Variable: 10\n",
      "Backdoor Adjustment Set: []\n",
      "ACE: 0.0\n",
      "Sample Data:\n",
      "          X0        X1        X2        X3        X4        X5        X6  \\\n",
      "0 -0.043582 -0.042715  0.097131  0.037680 -0.026303 -0.014756  0.034599   \n",
      "1 -0.050680 -0.112951  0.306848 -0.236150 -0.085010 -0.001908  0.096936   \n",
      "2 -0.057246  0.062035  0.010773 -0.037877 -0.048808  0.119706  0.010308   \n",
      "3 -0.051077  0.053778  0.004720  0.144223 -0.033036  0.063840  0.126932   \n",
      "4 -0.032059  0.199118  0.017806 -0.052781 -0.099160 -0.017898 -0.011370   \n",
      "\n",
      "         X7        X8        X9       X10       X11       X12  \n",
      "0  0.052560  0.173823 -0.077685 -0.010926 -0.096044 -0.079609  \n",
      "1  0.189888 -0.126167  0.109164 -0.005447  0.065146 -0.062666  \n",
      "2  0.185165 -0.084474  0.183712  0.028199  0.041580 -0.082201  \n",
      "3  0.047313  0.102544  0.186686 -0.064140  0.031517  0.088366  \n",
      "4 -0.074721 -0.051598 -0.014643  0.095125  0.039419  0.107377  \n"
     ]
    }
   ],
   "source": [
    "# 示例：打印生成的第一个DAG的结果\n",
    "example_dag = dag_data[0]\n",
    "print(\"DAG ID:\", example_dag['dag_id'])\n",
    "print(\"Sample Size:\", example_dag['sample_size'])\n",
    "print(\"Noise Level:\", example_dag['noise_level'])\n",
    "print(\"Intervention Variable:\", example_dag['intervention_var'])\n",
    "print(\"Outcome Variable:\", example_dag['outcome_var'])\n",
    "print(\"Backdoor Adjustment Set:\", example_dag['backdoor_set'])\n",
    "print(\"ACE:\", example_dag['ace'])\n",
    "print(\"Sample Data:\\n\", example_dag['data'].head())"
   ]
  },
  {
   "cell_type": "code",
   "execution_count": 5,
   "metadata": {},
   "outputs": [
    {
     "name": "stdout",
     "output_type": "stream",
     "text": [
      "DAG ID: 11\n",
      "Sample Size: 100\n",
      "Noise Level: 0.5\n",
      "Intervention Variable: 1\n",
      "Outcome Variable: 7\n",
      "Backdoor Adjustment Set: []\n",
      "ACE: 0.0\n",
      "Sample Data:\n",
      "          X0        X1        X2        X3        X4        X5        X6  \\\n",
      "0  0.223341 -0.290767 -0.232290 -0.094354  1.285832  0.499786 -0.145607   \n",
      "1  0.286766  0.230805 -0.097191 -0.405695  0.555624  0.091132  0.508244   \n",
      "2  0.200687  0.138359  0.256646 -0.683888 -0.392073 -0.042485  0.347206   \n",
      "3 -0.563410  0.000187  0.120081  0.624541 -0.180089  0.173625  0.181209   \n",
      "4  0.136099 -0.163362  0.401675 -0.508813  0.552497  0.437060  0.238138   \n",
      "\n",
      "         X7  \n",
      "0  0.319752  \n",
      "1 -0.126090  \n",
      "2  0.109672  \n",
      "3 -0.386218  \n",
      "4 -0.666634  \n"
     ]
    }
   ],
   "source": [
    "# 示例：打印生成的第一个DAG的结果\n",
    "example_dag = dag_data[100]\n",
    "print(\"DAG ID:\", example_dag['dag_id'])\n",
    "print(\"Sample Size:\", example_dag['sample_size'])\n",
    "print(\"Noise Level:\", example_dag['noise_level'])\n",
    "print(\"Intervention Variable:\", example_dag['intervention_var'])\n",
    "print(\"Outcome Variable:\", example_dag['outcome_var'])\n",
    "print(\"Backdoor Adjustment Set:\", example_dag['backdoor_set'])\n",
    "print(\"ACE:\", example_dag['ace'])\n",
    "print(\"Sample Data:\\n\", example_dag['data'].head())"
   ]
  }
 ],
 "metadata": {
  "kernelspec": {
   "display_name": "base",
   "language": "python",
   "name": "python3"
  },
  "language_info": {
   "codemirror_mode": {
    "name": "ipython",
    "version": 3
   },
   "file_extension": ".py",
   "mimetype": "text/x-python",
   "name": "python",
   "nbconvert_exporter": "python",
   "pygments_lexer": "ipython3",
   "version": "3.12.4"
  }
 },
 "nbformat": 4,
 "nbformat_minor": 2
}
