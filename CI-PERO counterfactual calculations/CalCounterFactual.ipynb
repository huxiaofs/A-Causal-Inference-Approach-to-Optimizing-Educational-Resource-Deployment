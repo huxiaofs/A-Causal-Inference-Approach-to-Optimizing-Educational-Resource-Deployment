{
 "cells": [
  {
   "cell_type": "code",
   "execution_count": 1,
   "id": "6a61b2a2",
   "metadata": {},
   "outputs": [],
   "source": [
    "import pandas as pd\n",
    "import numpy as np\n",
    "import matplotlib.pyplot as plt\n",
    "from statsmodels.formula.api import logit\n",
    "from scipy.stats import gaussian_kde, qmc\n",
    "from scipy.integrate import nquad"
   ]
  },
  {
   "cell_type": "code",
   "execution_count": null,
   "id": "39c77e2a",
   "metadata": {
    "scrolled": true
   },
   "outputs": [],
   "source": []
  },
  {
   "cell_type": "code",
   "execution_count": 2,
   "id": "40c82d0d",
   "metadata": {},
   "outputs": [
    {
     "name": "stdout",
     "output_type": "stream",
     "text": [
      "Optimization terminated successfully.\n",
      "         Current function value: 0.492867\n",
      "         Iterations 6\n",
      "                           Logit Regression Results                           \n",
      "==============================================================================\n",
      "Dep. Variable:                 ICTUSE   No. Observations:               256492\n",
      "Model:                          Logit   Df Residuals:                   256488\n",
      "Method:                           MLE   Df Model:                            3\n",
      "Date:                Wed, 19 Jun 2024   Pseudo R-squ.:                 0.02408\n",
      "Time:                        17:49:42   Log-Likelihood:            -1.2642e+05\n",
      "converged:                       True   LL-Null:                   -1.2954e+05\n",
      "Covariance Type:            nonrobust   LLR p-value:                     0.000\n",
      "==============================================================================\n",
      "                 coef    std err          z      P>|z|      [0.025      0.975]\n",
      "------------------------------------------------------------------------------\n",
      "Intercept     -0.1510      0.033     -4.566      0.000      -0.216      -0.086\n",
      "ICTSCHPRD      1.6103      0.033     48.156      0.000       1.545       1.676\n",
      "ICTQUAL        0.3182      0.005     59.960      0.000       0.308       0.329\n",
      "ICTREG        -0.1361      0.005    -25.338      0.000      -0.147      -0.126\n",
      "==============================================================================\n",
      "第1次实验的结果为0    0.801653\n",
      "dtype: float64\n",
      "第2次实验的结果为0    0.801659\n",
      "dtype: float64\n",
      "第3次实验的结果为0    0.801654\n",
      "dtype: float64\n",
      "第1次实验的结果为0    0.45391\n",
      "dtype: float64\n",
      "第2次实验的结果为0    0.453945\n",
      "dtype: float64\n",
      "第3次实验的结果为0    0.453921\n",
      "dtype: float64\n",
      "P(ICTUSE=1 | do(ICTSCHPRD=1)): 0.8016553005817003\n",
      "P(ICTUSE=1 | do(ICTSCHPRD=0)): 0.4539252686781217\n"
     ]
    }
   ],
   "source": [
    "# 载入数据\n",
    "data = pd.read_csv(r'D:\\my work\\Causal theory\\pisa数据\\2022\\CY08MSP_STU_QQQ_processed_Cal-CounterFactual.csv')\n",
    "\n",
    "# 建立逻辑回归模型\n",
    "model = logit(\"ICTUSE ~ ICTSCHPRD + ICTQUAL + ICTREG\", data=data).fit()\n",
    "\n",
    "# 显示模型结果\n",
    "print(model.summary())\n",
    "\n",
    "# 提取 ICTQUAL 和 ICTREG 的数据\n",
    "W_values = data[['ICTQUAL', 'ICTREG']].values.T\n",
    "\n",
    "# 建立核密度估计对象\n",
    "kde = gaussian_kde(W_values)\n",
    "\n",
    "def estimate_conditional_probability(x_value, num_trials=3, num_samples=4096): # 调整num_sample以平衡精度和性能\n",
    "    probabilities = []\n",
    "    for trial in range(num_trials):\n",
    "        # 创建一个准随机数生成器\n",
    "        sampler = qmc.Sobol(d=2, scramble=True)\n",
    "        \n",
    "        # 生成样本\n",
    "        sample_w1_w2 = qmc.scale(sampler.random(n=num_samples), [data['ICTQUAL'].min(), data['ICTREG'].min()], [data['ICTQUAL'].max(), data['ICTREG'].max()])\n",
    "        \n",
    "        total_probability = 0\n",
    "        total_weight = 0\n",
    "        for w1, w2 in sample_w1_w2:\n",
    "            density = kde.evaluate([w1, w2])[0]\n",
    "            # 估计 Y = 1 的概率给定 X=x, W1=w1, W2=w2\n",
    "            p_y_given_x_w1_w2 = model.predict(exog=dict(ICTSCHPRD=x_value, ICTQUAL=w1, ICTREG=w2))\n",
    "            total_probability += p_y_given_x_w1_w2 * density\n",
    "            total_weight += density\n",
    "        probability = total_probability / total_weight\n",
    "        print(f\"第{trial+1}次实验的结果为{probability}\")\n",
    "        probabilities.append(probability)\n",
    "    return probabilities, np.mean(probabilities)  # 返回多次实验的平均概率\n",
    "\n",
    "# 计算并输出结果\n",
    "probabilities_x1, p_y_x1 = estimate_conditional_probability(1)\n",
    "probabilities_x0, p_y_x0 = estimate_conditional_probability(0)\n",
    "\n",
    "print(f\"P(ICTUSE=1 | do(ICTSCHPRD=1)): {p_y_x1}\")\n",
    "print(f\"P(ICTUSE=1 | do(ICTSCHPRD=0)): {p_y_x0}\")"
   ]
  },
  {
   "cell_type": "code",
   "execution_count": 3,
   "id": "9c066a96",
   "metadata": {},
   "outputs": [
    {
     "data": {
      "text/plain": [
       "([0    0.801653\n",
       "  dtype: float64,\n",
       "  0    0.801659\n",
       "  dtype: float64,\n",
       "  0    0.801654\n",
       "  dtype: float64],\n",
       " [0    0.45391\n",
       "  dtype: float64,\n",
       "  0    0.453945\n",
       "  dtype: float64,\n",
       "  0    0.453921\n",
       "  dtype: float64])"
      ]
     },
     "execution_count": 3,
     "metadata": {},
     "output_type": "execute_result"
    }
   ],
   "source": [
    "probabilities_x1, probabilities_x0"
   ]
  },
  {
   "cell_type": "code",
   "execution_count": 4,
   "id": "422a0c3c",
   "metadata": {},
   "outputs": [
    {
     "data": {
      "text/plain": [
       "(0.8017842506028676, 0.46746011648518615)"
      ]
     },
     "execution_count": 4,
     "metadata": {},
     "output_type": "execute_result"
    }
   ],
   "source": [
    "\n",
    "# 计算 P(ICTUSE=1 | ICTSCHPRD=1)\n",
    "ict_schprd_1 = data[data['ICTSCHPRD'] == 1]\n",
    "p_ictuse_given_ictschprd_1 = ict_schprd_1[ict_schprd_1['ICTUSE'] == 1].shape[0] / ict_schprd_1.shape[0]\n",
    "\n",
    "# 计算 P(ICTUSE=1 | ICTSCHPRD=0)\n",
    "ict_schprd_0 = data[data['ICTSCHPRD'] == 0]\n",
    "p_ictuse_given_ictschprd_0 = ict_schprd_0[ict_schprd_0['ICTUSE'] == 1].shape[0] / ict_schprd_0.shape[0]\n",
    "\n",
    "p_ictuse_given_ictschprd_1, p_ictuse_given_ictschprd_0\n"
   ]
  },
  {
   "cell_type": "code",
   "execution_count": null,
   "id": "7fb4e57d",
   "metadata": {
    "scrolled": true
   },
   "outputs": [],
   "source": []
  },
  {
   "cell_type": "code",
   "execution_count": null,
   "id": "e5e2b20c",
   "metadata": {},
   "outputs": [],
   "source": []
  },
  {
   "cell_type": "code",
   "execution_count": null,
   "id": "4a51414e",
   "metadata": {},
   "outputs": [],
   "source": []
  },
  {
   "cell_type": "code",
   "execution_count": 5,
   "id": "429e9af1",
   "metadata": {},
   "outputs": [
    {
     "data": {
      "text/html": [
       "<div>\n",
       "<style scoped>\n",
       "    .dataframe tbody tr th:only-of-type {\n",
       "        vertical-align: middle;\n",
       "    }\n",
       "\n",
       "    .dataframe tbody tr th {\n",
       "        vertical-align: top;\n",
       "    }\n",
       "\n",
       "    .dataframe thead th {\n",
       "        text-align: right;\n",
       "    }\n",
       "</style>\n",
       "<table border=\"1\" class=\"dataframe\">\n",
       "  <thead>\n",
       "    <tr style=\"text-align: right;\">\n",
       "      <th></th>\n",
       "      <th>ICTSCHPRD</th>\n",
       "      <th>ICTQUAL</th>\n",
       "      <th>ICTREG</th>\n",
       "      <th>ICTUSE</th>\n",
       "    </tr>\n",
       "  </thead>\n",
       "  <tbody>\n",
       "    <tr>\n",
       "      <th>0</th>\n",
       "      <td>1</td>\n",
       "      <td>-0.3516</td>\n",
       "      <td>2.8904</td>\n",
       "      <td>1</td>\n",
       "    </tr>\n",
       "    <tr>\n",
       "      <th>1</th>\n",
       "      <td>1</td>\n",
       "      <td>1.0161</td>\n",
       "      <td>2.0196</td>\n",
       "      <td>1</td>\n",
       "    </tr>\n",
       "    <tr>\n",
       "      <th>2</th>\n",
       "      <td>1</td>\n",
       "      <td>1.1978</td>\n",
       "      <td>2.8904</td>\n",
       "      <td>1</td>\n",
       "    </tr>\n",
       "    <tr>\n",
       "      <th>3</th>\n",
       "      <td>1</td>\n",
       "      <td>-1.0266</td>\n",
       "      <td>0.8842</td>\n",
       "      <td>1</td>\n",
       "    </tr>\n",
       "    <tr>\n",
       "      <th>4</th>\n",
       "      <td>1</td>\n",
       "      <td>-0.1076</td>\n",
       "      <td>0.4704</td>\n",
       "      <td>0</td>\n",
       "    </tr>\n",
       "    <tr>\n",
       "      <th>...</th>\n",
       "      <td>...</td>\n",
       "      <td>...</td>\n",
       "      <td>...</td>\n",
       "      <td>...</td>\n",
       "    </tr>\n",
       "    <tr>\n",
       "      <th>256487</th>\n",
       "      <td>1</td>\n",
       "      <td>0.3623</td>\n",
       "      <td>1.0594</td>\n",
       "      <td>1</td>\n",
       "    </tr>\n",
       "    <tr>\n",
       "      <th>256488</th>\n",
       "      <td>1</td>\n",
       "      <td>0.2524</td>\n",
       "      <td>-0.5927</td>\n",
       "      <td>1</td>\n",
       "    </tr>\n",
       "    <tr>\n",
       "      <th>256489</th>\n",
       "      <td>1</td>\n",
       "      <td>0.3623</td>\n",
       "      <td>1.0594</td>\n",
       "      <td>0</td>\n",
       "    </tr>\n",
       "    <tr>\n",
       "      <th>256490</th>\n",
       "      <td>1</td>\n",
       "      <td>-2.8028</td>\n",
       "      <td>0.5826</td>\n",
       "      <td>0</td>\n",
       "    </tr>\n",
       "    <tr>\n",
       "      <th>256491</th>\n",
       "      <td>1</td>\n",
       "      <td>-0.1933</td>\n",
       "      <td>-0.6166</td>\n",
       "      <td>1</td>\n",
       "    </tr>\n",
       "  </tbody>\n",
       "</table>\n",
       "<p>256492 rows × 4 columns</p>\n",
       "</div>"
      ],
      "text/plain": [
       "        ICTSCHPRD  ICTQUAL  ICTREG  ICTUSE\n",
       "0               1  -0.3516  2.8904       1\n",
       "1               1   1.0161  2.0196       1\n",
       "2               1   1.1978  2.8904       1\n",
       "3               1  -1.0266  0.8842       1\n",
       "4               1  -0.1076  0.4704       0\n",
       "...           ...      ...     ...     ...\n",
       "256487          1   0.3623  1.0594       1\n",
       "256488          1   0.2524 -0.5927       1\n",
       "256489          1   0.3623  1.0594       0\n",
       "256490          1  -2.8028  0.5826       0\n",
       "256491          1  -0.1933 -0.6166       1\n",
       "\n",
       "[256492 rows x 4 columns]"
      ]
     },
     "execution_count": 5,
     "metadata": {},
     "output_type": "execute_result"
    }
   ],
   "source": [
    "data"
   ]
  },
  {
   "cell_type": "code",
   "execution_count": null,
   "id": "50a5c341",
   "metadata": {},
   "outputs": [],
   "source": []
  }
 ],
 "metadata": {
  "kernelspec": {
   "display_name": "Python 3",
   "language": "python",
   "name": "python3"
  },
  "language_info": {
   "codemirror_mode": {
    "name": "ipython",
    "version": 3
   },
   "file_extension": ".py",
   "mimetype": "text/x-python",
   "name": "python",
   "nbconvert_exporter": "python",
   "pygments_lexer": "ipython3",
   "version": "3.8.8"
  }
 },
 "nbformat": 4,
 "nbformat_minor": 5
}
