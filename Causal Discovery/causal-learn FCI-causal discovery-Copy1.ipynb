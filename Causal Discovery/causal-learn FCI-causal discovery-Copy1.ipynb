{
 "cells": [
  {
   "cell_type": "code",
   "execution_count": 1,
   "id": "80131347",
   "metadata": {},
   "outputs": [],
   "source": [
    "from causallearn.search.ConstraintBased.FCI import fci\n",
    "from causallearn.utils.GraphUtils import GraphUtils\n",
    "from causallearn.utils.cit import fisherz\n",
    "import networkx as nx\n",
    "import pandas as pd\n",
    "import numpy as np\n",
    "import matplotlib.pyplot as plt"
   ]
  },
  {
   "cell_type": "code",
   "execution_count": 2,
   "id": "abef4ff5",
   "metadata": {},
   "outputs": [],
   "source": [
    "data = pd.read_csv(r'D:\\wechat\\WeChat Files\\wxid_1ec8qk54xebz22\\FileStorage\\File\\2024-03\\dataset1.csv')\n",
    "labels = data.columns.tolist()\n",
    "data = data.to_numpy()"
   ]
  },
  {
   "cell_type": "code",
   "execution_count": 3,
   "id": "12050604",
   "metadata": {},
   "outputs": [],
   "source": [
    "file_path = \"fci_output_edgelist_test-dataset1.txt\"\n",
    "result_path = \"causal_graph_fci_test-dataset1-alpha=0.01.png\""
   ]
  },
  {
   "cell_type": "code",
   "execution_count": 4,
   "id": "eb2d8e49",
   "metadata": {},
   "outputs": [
    {
     "data": {
      "application/vnd.jupyter.widget-view+json": {
       "model_id": "26a83e629d414841b18f59266696dfa3",
       "version_major": 2,
       "version_minor": 0
      },
      "text/plain": [
       "  0%|          | 0/5 [00:00<?, ?it/s]"
      ]
     },
     "metadata": {},
     "output_type": "display_data"
    }
   ],
   "source": [
    "# default parameters\n",
    "# g, edges = fci(data, fisherz, 0.05, -1, -1, True)\n",
    "g, edges = fci(data, alpha=0.01)"
   ]
  },
  {
   "cell_type": "code",
   "execution_count": 5,
   "id": "cf02e4d8",
   "metadata": {},
   "outputs": [],
   "source": [
    "# nx.write_edgelist(edges, file_path)"
   ]
  },
  {
   "cell_type": "code",
   "execution_count": 6,
   "id": "b1b84c3b",
   "metadata": {},
   "outputs": [],
   "source": [
    "# labels = data.columns.tolist()"
   ]
  },
  {
   "cell_type": "code",
   "execution_count": 7,
   "id": "2291535b",
   "metadata": {},
   "outputs": [],
   "source": [
    "# visualization\n",
    "\n",
    "pdy = GraphUtils.to_pydot(g, labels=labels)\n",
    "pdy.write_png(result_path)"
   ]
  },
  {
   "cell_type": "code",
   "execution_count": 8,
   "id": "b5196203",
   "metadata": {},
   "outputs": [],
   "source": [
    "# g.draw_pydot_graph(labels=[f\"Node_{i + 1}\" for i in range(data.shape[1])])"
   ]
  },
  {
   "cell_type": "code",
   "execution_count": 9,
   "id": "63d1ca96",
   "metadata": {},
   "outputs": [],
   "source": [
    "\n",
    "# or customized parameters\n",
    "# g, edges = fci(data, independence_test_method, alpha, depth, max_path_length, \n",
    "#                verbose, background_knowledge, cache_variables_map)"
   ]
  }
 ],
 "metadata": {
  "kernelspec": {
   "display_name": "Python 3",
   "language": "python",
   "name": "python3"
  },
  "language_info": {
   "codemirror_mode": {
    "name": "ipython",
    "version": 3
   },
   "file_extension": ".py",
   "mimetype": "text/x-python",
   "name": "python",
   "nbconvert_exporter": "python",
   "pygments_lexer": "ipython3",
   "version": "3.8.8"
  }
 },
 "nbformat": 4,
 "nbformat_minor": 5
}
